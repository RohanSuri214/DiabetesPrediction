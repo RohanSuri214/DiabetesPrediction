{
 "cells": [
  {
   "cell_type": "code",
   "execution_count": 66,
   "metadata": {},
   "outputs": [],
   "source": [
    "import numpy as np\n",
    "import pandas as pd #Reading the dataframe\n",
    "import matplotlib.pyplot as plt #Visualizing the data with histograms, scatterplots, count plots, etc.\n",
    "import seaborn as sns #Correlation analysis via heatmaps\n",
    "from sklearn.preprocessing import StandardScaler #Feature scaling\n",
    "from sklearn.model_selection import train_test_split #Traintestsplit\n",
    "from sklearn import metrics\n",
    "from sklearn.ensemble import RandomForestClassifier\n",
    "from sklearn.metrics import confusion_matrix, roc_auc_score, roc_curve, classification_report, accuracy_score\n",
    "import gradio as gr\n",
    "import pickle"
   ]
  },
  {
   "cell_type": "code",
   "execution_count": null,
   "metadata": {},
   "outputs": [],
   "source": [
    "df = pd.read_csv('diabetes.csv')"
   ]
  },
  {
   "cell_type": "code",
   "execution_count": 67,
   "metadata": {},
   "outputs": [],
   "source": [
    "#Split df into X and Y\n",
    "target_name = 'Outcome'\n",
    "\n",
    "#Separate object for target feature\n",
    "y = df[target_name]\n",
    "\n",
    "#Separate Object for Input Features\n",
    "X = df.drop(target_name, axis=1)"
   ]
  },
  {
   "cell_type": "code",
   "execution_count": 68,
   "metadata": {},
   "outputs": [],
   "source": [
    "#Apply feature scaling\n",
    "scaler = StandardScaler()\n",
    "scaler.fit(X)\n",
    "SSX = scaler.transform(X)"
   ]
  },
  {
   "cell_type": "code",
   "execution_count": null,
   "metadata": {},
   "outputs": [
    {
     "name": "stdout",
     "output_type": "stream",
     "text": [
      "accuracy: 0.8116883116883117\n"
     ]
    }
   ],
   "source": [
    "#TRAIN-TEST-SPLIT\n",
    "X_train, X_test, y_train, y_test = train_test_split(SSX, y, test_size= 0.2, random_state=7)\n",
    "classifier_forest = RandomForestClassifier(criterion = 'entropy', max_depth = 30, n_estimators = 300, random_state = 0)\n",
    "classifier_forest.fit(X_train, y_train)\n",
    "print(\"accuracy:\", classifier_forest.score(X_test, y_test))"
   ]
  },
  {
   "cell_type": "code",
   "execution_count": 72,
   "metadata": {},
   "outputs": [],
   "source": [
    "\n",
    "def predict_diabetes(Pregnancies, Glucose, Blood_Pressure, SkinThickness, Insulin, BMI, Diabetes_Pedigree, Age):\n",
    "    \n",
    "    \n",
    "    input_data = pd.DataFrame({'Pregnancies':[Pregnancies], 'Glucose':[Glucose], 'Blood_Pressure':[Blood_Pressure], 'SkinThickness':[SkinThickness], 'Insulin':[Insulin],\n",
    "      'BMI':[BMI], 'Diabetes_Pedigree':[Diabetes_Pedigree], 'Age':[Age]})\n",
    "   # with open(\"diabetes_model.pkl\", \"rb\") as f:\n",
    "       # model = pickle.load(f)\n",
    "       # prediction = model.predict(input_data) \n",
    "    #print(\"accuracy:\", classifier_forest.score(X_test, y_test))\n",
    "    x = np.array([Pregnancies,Glucose,Blood_Pressure,SkinThickness,Insulin,BMI,Diabetes_Pedigree,Age])\n",
    "    prediction = classifier_forest.predict(x.reshape(1, -1))\n",
    "    # confidence = \"90%\"\n",
    "    \n",
    "    if (prediction == [0]):\n",
    "        return \"Negative\" # f\"Confidence: {confidence}\"\n",
    "    elif (prediction == [1]):\n",
    "        return \"Positive\" # f\"Confidence: {confidence}\""
   ]
  },
  {
   "cell_type": "code",
   "execution_count": 73,
   "metadata": {},
   "outputs": [],
   "source": [
    "iface = gr.Interface(\n",
    "    fn=predict_diabetes,\n",
    "    inputs=[\n",
    "        gr.Number(label=\"Pregnancies\"),\n",
    "        gr.Number(label=\"Glucose\"),\n",
    "        gr.Number(label=\"Blood Pressure\"),\n",
    "        gr.Number(label=\"Skin Thickness\"),\n",
    "        gr.Number(label=\"Insulin\"),\n",
    "        gr.Number(label=\"BMI\"),\n",
    "        gr.Number(label=\"Diabetes Pedigree\"),\n",
    "        gr.Number(label=\"Age\")\n",
    "    ],\n",
    "    outputs=[\n",
    "        gr.Textbox(label=\"Diabetes Prediction\")\n",
    "       # gr.Textbox(label=\"Model Confidence\")\n",
    "    ],\n",
    "    title=\"SugarSense\",\n",
    "    description=\"Enter details to predict the likelihood of diabetes mellitus. The model provides a prediction of whether you have diabetes or not.\"\n",
    ")\n",
    "\n"
   ]
  },
  {
   "cell_type": "code",
   "execution_count": 71,
   "metadata": {},
   "outputs": [
    {
     "name": "stdout",
     "output_type": "stream",
     "text": [
      "Running on local URL:  http://127.0.0.1:7876\n",
      "\n",
      "To create a public link, set `share=True` in `launch()`.\n"
     ]
    },
    {
     "data": {
      "text/html": [
       "<div><iframe src=\"http://127.0.0.1:7876/\" width=\"100%\" height=\"500\" allow=\"autoplay; camera; microphone; clipboard-read; clipboard-write;\" frameborder=\"0\" allowfullscreen></iframe></div>"
      ],
      "text/plain": [
       "<IPython.core.display.HTML object>"
      ]
     },
     "metadata": {},
     "output_type": "display_data"
    },
    {
     "name": "stdout",
     "output_type": "stream",
     "text": [
      "Rerunning server... use `close()` to stop if you need to change `launch()` parameters.\n",
      "----\n",
      "Running on public URL: https://02318c3ea6aa25df4c.gradio.live\n",
      "\n",
      "This share link expires in 72 hours. For free permanent hosting and GPU upgrades, run `gradio deploy` from Terminal to deploy to Spaces (https://huggingface.co/spaces)\n"
     ]
    },
    {
     "data": {
      "text/html": [
       "<div><iframe src=\"https://02318c3ea6aa25df4c.gradio.live\" width=\"100%\" height=\"500\" allow=\"autoplay; camera; microphone; clipboard-read; clipboard-write;\" frameborder=\"0\" allowfullscreen></iframe></div>"
      ],
      "text/plain": [
       "<IPython.core.display.HTML object>"
      ]
     },
     "metadata": {},
     "output_type": "display_data"
    }
   ],
   "source": [
    "# launch\n",
    "if __name__ == \"__main__\":\n",
    "        iface.launch()\n",
    "\n",
    "        iface.launch(share = True)"
   ]
  }
 ],
 "metadata": {
  "kernelspec": {
   "display_name": "base",
   "language": "python",
   "name": "python3"
  },
  "language_info": {
   "codemirror_mode": {
    "name": "ipython",
    "version": 3
   },
   "file_extension": ".py",
   "mimetype": "text/x-python",
   "name": "python",
   "nbconvert_exporter": "python",
   "pygments_lexer": "ipython3",
   "version": "3.11.5"
  },
  "orig_nbformat": 4,
  "vscode": {
   "interpreter": {
    "hash": "643a447a12387c45764bfd2a653c02b17161e0c7f7d2b53c571ef21239adc8a9"
   }
  }
 },
 "nbformat": 4,
 "nbformat_minor": 2
}
